{
 "cells": [
  {
   "cell_type": "code",
   "execution_count": null,
   "id": "e9c1fde0",
   "metadata": {},
   "outputs": [],
   "source": [
    "from jupyterthemes import jtplot\n",
    "jtplot.style()"
   ]
  },
  {
   "cell_type": "code",
   "execution_count": null,
   "id": "69adb51f",
   "metadata": {},
   "outputs": [],
   "source": [
    "import requests\n",
    "from bs4 import BeautifulSoup\n",
    "import pandas as pd"
   ]
  },
  {
   "cell_type": "code",
   "execution_count": null,
   "id": "b8879aca",
   "metadata": {},
   "outputs": [],
   "source": [
    "lipscomb_main = 'https://www.lipscomb.edu/'\n",
    "response_main = requests.get(lipscomb_main)\n",
    "response_main.status_code"
   ]
  },
  {
   "cell_type": "code",
   "execution_count": null,
   "id": "2f92ede4",
   "metadata": {},
   "outputs": [],
   "source": [
    "print(type(response_main))\n",
    "response_main.content"
   ]
  },
  {
   "cell_type": "code",
   "execution_count": null,
   "id": "1cde78cd",
   "metadata": {},
   "outputs": [],
   "source": [
    "soup_programs = BeautifulSoup(response_main.content, 'lxml')\n",
    "print(soup_programs.title)"
   ]
  },
  {
   "cell_type": "code",
   "execution_count": null,
   "id": "b3e0224a",
   "metadata": {},
   "outputs": [],
   "source": [
    "print(soup_programs)"
   ]
  },
  {
   "cell_type": "markdown",
   "id": "61121b9a",
   "metadata": {},
   "source": [
    "# Lipscomb Degrees & Programs"
   ]
  },
  {
   "cell_type": "code",
   "execution_count": null,
   "id": "a78153f7",
   "metadata": {},
   "outputs": [],
   "source": [
    "lipscomb_programs = 'https://catalog.lipscomb.edu/content.php?catoid=22&navoid=1690'\n",
    "response_programs = requests.get(lipscomb_programs, verify = False)\n",
    "response_programs.status_code"
   ]
  },
  {
   "cell_type": "code",
   "execution_count": null,
   "id": "3f5db3e8",
   "metadata": {},
   "outputs": [],
   "source": [
    "print(type(response_programs))\n",
    "response_programs.content"
   ]
  },
  {
   "cell_type": "code",
   "execution_count": null,
   "id": "5174f36a",
   "metadata": {},
   "outputs": [],
   "source": [
    "soup_programs = BeautifulSoup(response_programs.content, 'lxml')\n",
    "print(soup_programs.title)"
   ]
  },
  {
   "cell_type": "code",
   "execution_count": null,
   "id": "01b97a68",
   "metadata": {},
   "outputs": [],
   "source": [
    "print(soup_programs)"
   ]
  },
  {
   "cell_type": "code",
   "execution_count": null,
   "id": "a4727f7a",
   "metadata": {},
   "outputs": [],
   "source": []
  },
  {
   "cell_type": "code",
   "execution_count": null,
   "id": "c565dd69",
   "metadata": {},
   "outputs": [],
   "source": []
  },
  {
   "cell_type": "code",
   "execution_count": null,
   "id": "210294e5",
   "metadata": {},
   "outputs": [],
   "source": []
  },
  {
   "cell_type": "code",
   "execution_count": null,
   "id": "947129c0",
   "metadata": {},
   "outputs": [],
   "source": []
  },
  {
   "cell_type": "code",
   "execution_count": null,
   "id": "316080c5",
   "metadata": {},
   "outputs": [],
   "source": []
  },
  {
   "cell_type": "code",
   "execution_count": null,
   "id": "3f3de262",
   "metadata": {},
   "outputs": [],
   "source": []
  },
  {
   "cell_type": "markdown",
   "id": "f97d89d9",
   "metadata": {},
   "source": [
    "# Lipscomb Courses"
   ]
  },
  {
   "cell_type": "code",
   "execution_count": null,
   "id": "d01bc073",
   "metadata": {},
   "outputs": [],
   "source": [
    "lipscomb_courses_1 = 'https://catalog.lipscomb.edu/content.php?catoid=22&navoid=1689'\n",
    "response_courses_1 = requests.get(lipscomb_courses_1, verify= False)\n",
    "response_courses_1.status_code"
   ]
  },
  {
   "cell_type": "code",
   "execution_count": null,
   "id": "fc38b5e3",
   "metadata": {},
   "outputs": [],
   "source": [
    "print(type(response_courses_1))\n",
    "response_courses_1.content"
   ]
  },
  {
   "cell_type": "code",
   "execution_count": null,
   "id": "0d27f554",
   "metadata": {},
   "outputs": [],
   "source": [
    "soup_courses_1 = BeautifulSoup(response_courses_1.content)\n",
    "print(soup_courses_1.title)"
   ]
  },
  {
   "cell_type": "code",
   "execution_count": null,
   "id": "b9b462e8",
   "metadata": {},
   "outputs": [],
   "source": [
    "print(soup_courses_1)"
   ]
  },
  {
   "cell_type": "code",
   "execution_count": null,
   "id": "0720adeb",
   "metadata": {},
   "outputs": [],
   "source": []
  }
 ],
 "metadata": {
  "kernelspec": {
   "display_name": "Python 3",
   "language": "python",
   "name": "python3"
  },
  "language_info": {
   "codemirror_mode": {
    "name": "ipython",
    "version": 3
   },
   "file_extension": ".py",
   "mimetype": "text/x-python",
   "name": "python",
   "nbconvert_exporter": "python",
   "pygments_lexer": "ipython3",
   "version": "3.8.8"
  }
 },
 "nbformat": 4,
 "nbformat_minor": 5
}
